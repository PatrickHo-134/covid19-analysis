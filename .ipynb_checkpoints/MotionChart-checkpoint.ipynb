{
 "cells": [
  {
   "cell_type": "markdown",
   "metadata": {},
   "source": [
    "# Motion Chart with Python"
   ]
  },
  {
   "cell_type": "code",
   "execution_count": 46,
   "metadata": {},
   "outputs": [],
   "source": [
    "from __future__ import print_function\n",
    "from motionchart.motionchart import MotionChart\n",
    "import pandas as pd\n",
    "import pymysql\n",
    "# from sqlalchemy import create_engine\n",
    "from datetime import date, datetime, timedelta\n",
    "import json\n",
    "\n",
    "with open(\"secrets.json\") as f:\n",
    "    data = json.load(f)\n",
    "\n",
    "user=data['user']\n",
    "password=data['pw']\n",
    "host=data['host']\n",
    "database=data['db']"
   ]
  },
  {
   "cell_type": "code",
   "execution_count": 48,
   "metadata": {},
   "outputs": [],
   "source": [
    "# convert the table to appropriate format\n",
    "def convert_df(df):\n",
    "    df = df.drop(['Long', 'Lat'], axis=1)\n",
    "    df = df.melt(id_vars=['Province/State', 'Country/Region'], var_name='date', value_name='total')\n",
    "    df.date = pd.to_datetime(df.date)\n",
    "    df['Province/State'].fillna('all', inplace=True)\n",
    "    df.total.fillna(0, inplace=True)\n",
    "    df.columns = ['prov_state','country_region','date','total']\n",
    "    \n",
    "    dates = df['date'].dt.floor('D')\n",
    "    dates = df['date'].dt.date\n",
    "\n",
    "    df = df.drop(['prov_state'], axis=1)\n",
    "    df = df.groupby(['country_region', dates]).sum().reset_index()\n",
    "    \n",
    "    return df"
   ]
  },
  {
   "cell_type": "code",
   "execution_count": 47,
   "metadata": {},
   "outputs": [],
   "source": [
    "# download a timeseries of daily deaths per country\n",
    "us_case = \"https://raw.githubusercontent.com/CSSEGISandData/COVID-19/master/csse_covid_19_data/csse_covid_19_time_series/time_series_covid19_confirmed_US.csv\"\n",
    "us_death = \"https://raw.githubusercontent.com/CSSEGISandData/COVID-19/master/csse_covid_19_data/csse_covid_19_time_series/time_series_covid19_deaths_US.csv\"\n",
    "\n",
    "glob_cases = \"https://raw.githubusercontent.com/CSSEGISandData/COVID-19/master/csse_covid_19_data/csse_covid_19_time_series/time_series_covid19_confirmed_global.csv\"\n",
    "glob_death = \"https://raw.githubusercontent.com/CSSEGISandData/COVID-19/master/csse_covid_19_data/csse_covid_19_time_series/time_series_covid19_deaths_global.csv\"\n",
    "glob_recov = \"https://raw.githubusercontent.com/CSSEGISandData/COVID-19/master/csse_covid_19_data/csse_covid_19_time_series/time_series_covid19_recovered_global.csv\"\n",
    "\n",
    "cases = pd.read_csv(glob_cases)\n",
    "deaths = pd.read_csv(glob_death)\n",
    "recov = pd.read_csv(glob_recov)\n",
    "\n",
    "# convert the table so that each country and each day is a separate row\n",
    "cases = convert_df(cases)\n",
    "deaths = convert_df(deaths)\n",
    "recov = convert_df(recov)\n",
    "\n",
    "cases.columns = ['country_region','date','case_total']\n",
    "deaths.columns = ['country_region','date','death_total']\n",
    "recov.columns = ['country_region','date','recov_total']\n",
    "\n",
    "df = pd.concat([cases, deaths, recov], axis=1, join='inner')\n",
    "\n",
    "# check if column are the same\n",
    "# for i in range(df.shape[0]):\n",
    "#     if df.iloc[i,0] != df.iloc[i,3] or df.iloc[i,0] != df.iloc[i,6]:\n",
    "#         print(df.iloc[i,0])\n",
    "#     elif df.iloc[i,1] != df.iloc[i,4] or df.iloc[i,1] != df.iloc[i,7]:\n",
    "#         print(df.iloc[i,1])\n",
    "\n",
    "# remove duplicate columns\n",
    "df = df.loc[:,~df.columns.duplicated()]\n",
    "df['date'] = df['date'].apply(lambda x: datetime.strftime(x, '%Y-%m-%d'))"
   ]
  },
  {
   "cell_type": "markdown",
   "metadata": {},
   "source": [
    "## Creating motion chart\n",
    "In the following, we pass our data to MotionChart to make them animate and show their changes."
   ]
  },
  {
   "cell_type": "markdown",
   "metadata": {},
   "source": [
    "The following html code block is just to make sure that you will see the entire motion chart nicely in the output cell."
   ]
  },
  {
   "cell_type": "code",
   "execution_count": 34,
   "metadata": {},
   "outputs": [
    {
     "data": {
      "text/html": [
       "<style>\n",
       ".output_wrapper, .output {\n",
       "    height:auto !important;\n",
       "    max-height:1000px;  /* your desired max-height here */\n",
       "}\n",
       ".output_scroll {\n",
       "    box-shadow:none !important;\n",
       "    webkit-box-shadow:none !important;\n",
       "}\n",
       "</style>\n"
      ],
      "text/plain": [
       "<IPython.core.display.HTML object>"
      ]
     },
     "metadata": {},
     "output_type": "display_data"
    }
   ],
   "source": [
    "%%html\n",
    "<style>\n",
    ".output_wrapper, .output {\n",
    "    height:auto !important;\n",
    "    max-height:1000px;  /* your desired max-height here */\n",
    "}\n",
    ".output_scroll {\n",
    "    box-shadow:none !important;\n",
    "    webkit-box-shadow:none !important;\n",
    "}\n",
    "</style>"
   ]
  },
  {
   "cell_type": "code",
   "execution_count": 54,
   "metadata": {
    "scrolled": true
   },
   "outputs": [
    {
     "data": {
      "text/html": [
       "\n",
       "        <iframe\n",
       "            width=\"900\"\n",
       "            height=\"700\"\n",
       "            src=\"mc_temp.html\"\n",
       "            frameborder=\"0\"\n",
       "            allowfullscreen\n",
       "        ></iframe>\n",
       "        "
      ],
      "text/plain": [
       "<IPython.lib.display.IFrame at 0x15bc45c7a58>"
      ]
     },
     "metadata": {},
     "output_type": "display_data"
    }
   ],
   "source": [
    "mChart = MotionChart(df = df, key='date', x='case_total', y='death_total', xscale='linear', yscale='linear',\n",
    "                     size='death_total', color='country_region')\n",
    "\n",
    "mChart.to_notebook()"
   ]
  }
 ],
 "metadata": {
  "kernelspec": {
   "display_name": "Python 3",
   "language": "python",
   "name": "python3"
  },
  "language_info": {
   "codemirror_mode": {
    "name": "ipython",
    "version": 3
   },
   "file_extension": ".py",
   "mimetype": "text/x-python",
   "name": "python",
   "nbconvert_exporter": "python",
   "pygments_lexer": "ipython3",
   "version": "3.6.9"
  }
 },
 "nbformat": 4,
 "nbformat_minor": 2
}
